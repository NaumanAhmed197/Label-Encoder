{
 "cells": [
  {
   "cell_type": "code",
   "execution_count": 214,
   "metadata": {
    "scrolled": true
   },
   "outputs": [
    {
     "name": "stdout",
     "output_type": "stream",
     "text": [
      "Encoded List:  [0, 1, 0, 2, 3, 1]\n"
     ]
    }
   ],
   "source": [
    "v1=[]\n",
    "def encode(lst):\n",
    "    a = len(lst)\n",
    "    #return(a)\n",
    "    for i in range(a):\n",
    "        if lst[i] not in v1:\n",
    "            v1.append(lst[i])\n",
    "    #return(v1)\n",
    "    \n",
    "    j= len(v1)\n",
    "    for i in range(j):\n",
    "        for k in range(a):\n",
    "            if lst[k]== v1[i]:\n",
    "                lst[k]=i\n",
    "        \n",
    "    return (lst)\n",
    "   \n",
    "b=['Toyota', 'Honda', 'Toyota','Nissan','Toyata', 'Honda']\n",
    "encode(b)\n",
    "\n",
    "print(\"Encoded List: \", b)\n"
   ]
  }
 ],
 "metadata": {
  "kernelspec": {
   "display_name": "Python 3",
   "language": "python",
   "name": "python3"
  },
  "language_info": {
   "codemirror_mode": {
    "name": "ipython",
    "version": 3
   },
   "file_extension": ".py",
   "mimetype": "text/x-python",
   "name": "python",
   "nbconvert_exporter": "python",
   "pygments_lexer": "ipython3",
   "version": "3.7.4"
  }
 },
 "nbformat": 4,
 "nbformat_minor": 2
}
